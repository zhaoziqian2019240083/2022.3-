{
  "nbformat": 4,
  "nbformat_minor": 0,
  "metadata": {
    "colab": {
      "name": "3.21 assignment.ipynb",
      "provenance": [],
      "collapsed_sections": [],
      "authorship_tag": "ABX9TyM6l49zcvIxAYyEDRoPd2xz",
      "include_colab_link": true
    },
    "kernelspec": {
      "name": "python3",
      "display_name": "Python 3"
    },
    "language_info": {
      "name": "python"
    }
  },
  "cells": [
    {
      "cell_type": "markdown",
      "metadata": {
        "id": "view-in-github",
        "colab_type": "text"
      },
      "source": [
        "<a href=\"https://colab.research.google.com/github/zhaoziqian2019240083/2022.3-/blob/main/3_21_assignment.ipynb\" target=\"_parent\"><img src=\"https://colab.research.google.com/assets/colab-badge.svg\" alt=\"Open In Colab\"/></a>"
      ]
    },
    {
      "cell_type": "markdown",
      "source": [
        "# **변수/Variables** "
      ],
      "metadata": {
        "id": "PQ_CmW4uxV4X"
      }
    },
    {
      "cell_type": "code",
      "source": [
        "a=2; print(a)"
      ],
      "metadata": {
        "colab": {
          "base_uri": "https://localhost:8080/"
        },
        "id": "NCOi7vCDxuDm",
        "outputId": "869ba36c-54f8-4958-c39d-44bfa716eabf"
      },
      "execution_count": null,
      "outputs": [
        {
          "output_type": "stream",
          "name": "stdout",
          "text": [
            "2\n"
          ]
        }
      ]
    },
    {
      "cell_type": "markdown",
      "source": [
        "print 괄호 안의 내용을 출력한다.함수로 뒤에 괄호를 넣어야 한다."
      ],
      "metadata": {
        "id": "tKP3sSpUTaJz"
      }
    },
    {
      "cell_type": "code",
      "source": [
        "b = 8; print(type(b))\n",
        "\n",
        "c = 8.2; print(type(c))\n"
      ],
      "metadata": {
        "colab": {
          "base_uri": "https://localhost:8080/"
        },
        "id": "JG4lpvaHSO0U",
        "outputId": "64b0a2c5-2b70-40c0-895e-6bd17c06dfe0"
      },
      "execution_count": null,
      "outputs": [
        {
          "output_type": "stream",
          "name": "stdout",
          "text": [
            "<class 'int'>\n",
            "<class 'float'>\n"
          ]
        }
      ]
    },
    {
      "cell_type": "code",
      "source": [
        "d = '234'; print(type(d)); print(d[0])\n",
        "print(d[1],d[2])\n",
        "print(d[-2],d[-3],d[0])\n",
        "print(d[1:])\n",
        "\n",
        "e = 'hello'; print(type(e)); print(e[2])"
      ],
      "metadata": {
        "colab": {
          "base_uri": "https://localhost:8080/"
        },
        "id": "FRdM0-JbTd9F",
        "outputId": "c0cbded7-2f01-4679-bf0e-fb621fcab89b"
      },
      "execution_count": null,
      "outputs": [
        {
          "output_type": "stream",
          "name": "stdout",
          "text": [
            "<class 'str'>\n",
            "2\n",
            "3 4\n",
            "3 2 2\n",
            "34\n",
            "<class 'str'>\n",
            "l\n"
          ]
        }
      ]
    },
    {
      "cell_type": "markdown",
      "source": [
        "이것은 string에 대한 연습입니다.\n",
        "\n",
        "\n",
        "*   string ' '/ \" \"\n",
        "\n",
        "\n",
        "*   string: number/letter\n",
        "\n",
        "\n",
        "*   print(d[0])  \n",
        "0부터 순서 세는다.\n",
        "d[0]은 string 안에 첫 번째 숫자이다.\n",
        "\n"
      ],
      "metadata": {
        "id": "apJNRekQTxiU"
      }
    },
    {
      "cell_type": "code",
      "source": [
        "f = [3, 4, 5, 6]; print(type(f)); print(f); print(f[2])"
      ],
      "metadata": {
        "colab": {
          "base_uri": "https://localhost:8080/"
        },
        "id": "yT7WVKOdXYY-",
        "outputId": "3a92e0c1-1e57-4886-ea5c-fee19b8cd520"
      },
      "execution_count": null,
      "outputs": [
        {
          "output_type": "stream",
          "name": "stdout",
          "text": [
            "<class 'list'>\n",
            "[3, 4, 5, 6]\n",
            "5\n"
          ]
        }
      ]
    },
    {
      "cell_type": "code",
      "source": [
        "f = ['a', 4, 'tennis', [1,2,'heart']]\n",
        "print(type(f))\n",
        "print(type(f[0]))\n",
        "print(type(f[3]))"
      ],
      "metadata": {
        "colab": {
          "base_uri": "https://localhost:8080/"
        },
        "id": "k5_ccmfmZKgZ",
        "outputId": "db5f73c2-5f3e-4384-cbeb-6e9a68bb3752"
      },
      "execution_count": null,
      "outputs": [
        {
          "output_type": "stream",
          "name": "stdout",
          "text": [
            "<class 'list'>\n",
            "<class 'str'>\n",
            "<class 'list'>\n"
          ]
        }
      ]
    },
    {
      "cell_type": "code",
      "source": [
        "print(f [1:3])\n",
        "print(f [:])\n",
        "print(f [1:])\n",
        "print(f [:2])\n",
        "print(f [1:-1])\n",
        "print(f [3][2])"
      ],
      "metadata": {
        "colab": {
          "base_uri": "https://localhost:8080/"
        },
        "id": "RkGfBXNrbPF4",
        "outputId": "6dc8967a-5b6a-4d1c-de62-d0685ac977fb"
      },
      "execution_count": null,
      "outputs": [
        {
          "output_type": "stream",
          "name": "stdout",
          "text": [
            "[4, 'tennis']\n",
            "['a', 4, 'tennis', [1, 2, 'heart']]\n",
            "[4, 'tennis', [1, 2, 'heart']]\n",
            "['a', 4]\n",
            "[4, 'tennis']\n",
            "heart\n"
          ]
        }
      ]
    },
    {
      "cell_type": "markdown",
      "source": [
        "이것은 list에 대한 연습입니다.\n",
        "\n",
        "\n",
        "\n",
        "*   첫 번째 숫자는 0번째이고, 마지막 숫자는 -1번째이다.\n",
        "*   \n",
        ":  string&list 사용방법이 같은다.\n",
        "\n",
        "*   f [3][2] list안의 변수를 순서대로 print\n",
        "\n"
      ],
      "metadata": {
        "id": "YdC6u2slcG4b"
      }
    },
    {
      "cell_type": "code",
      "source": [
        "g =\t{\"1\": \"blade\", \"b\": \"runner\", \"23\": 2049}\n",
        "print(type(g))\n",
        "print(g[\"1\"])\n",
        "print(g[\"b\"])\n",
        "print(g[\"23\"])"
      ],
      "metadata": {
        "colab": {
          "base_uri": "https://localhost:8080/"
        },
        "id": "zu672JaKiSXz",
        "outputId": "cb272c1c-7cd5-4119-9856-95847ec1a4fe"
      },
      "execution_count": null,
      "outputs": [
        {
          "output_type": "stream",
          "name": "stdout",
          "text": [
            "<class 'dict'>\n",
            "blade\n",
            "runner\n",
            "2049\n"
          ]
        }
      ]
    },
    {
      "cell_type": "markdown",
      "source": [
        "이것은 dict에 대한 연습입니다.\n",
        "\n",
        "*   dict는 {} 로 표현한다.\n",
        "*  dict={\"key\": \"value\"}\n",
        "*  외에 coding중 1는 key,:되에 value 이다.\n",
        "*  dict속에 key를 입력해 value를 불러온다.\n",
        "*  dict속에 순서를 따지지 않다\n",
        "\n",
        "\n",
        "\n"
      ],
      "metadata": {
        "id": "OXUnU6CRjooP"
      }
    },
    {
      "cell_type": "code",
      "source": [
        "a='1234'\n",
        "print(d[1]+d[2])\n",
        "print(d[1]+d[2]*10)\n",
        "print(d[1]+d[2]+d[:2]*10)\n",
        "\n",
        "b='really'\n",
        "b"
      ],
      "metadata": {
        "colab": {
          "base_uri": "https://localhost:8080/",
          "height": 89
        },
        "id": "7jia0IBT1Lc7",
        "outputId": "7e3ff58e-03d6-4210-8712-1f2c4a3fc195"
      },
      "execution_count": null,
      "outputs": [
        {
          "output_type": "stream",
          "name": "stdout",
          "text": [
            "34\n",
            "34444444444\n",
            "3423232323232323232323\n"
          ]
        },
        {
          "output_type": "execute_result",
          "data": {
            "text/plain": [
              "'really'"
            ],
            "application/vnd.google.colaboratory.intrinsic+json": {
              "type": "string"
            }
          },
          "metadata": {},
          "execution_count": 46
        }
      ]
    },
    {
      "cell_type": "markdown",
      "source": [
        "*String*\n",
        "\n"
      ],
      "metadata": {
        "id": "GaCh4rSzxF5F"
      }
    },
    {
      "cell_type": "code",
      "source": [
        "len(g)"
      ],
      "metadata": {
        "colab": {
          "base_uri": "https://localhost:8080/"
        },
        "id": "fTnEDmiWyBRL",
        "outputId": "4e3e807e-6f3b-4085-f61c-fd006ae4a17c"
      },
      "execution_count": null,
      "outputs": [
        {
          "output_type": "execute_result",
          "data": {
            "text/plain": [
              "3"
            ]
          },
          "metadata": {},
          "execution_count": 47
        }
      ]
    },
    {
      "cell_type": "code",
      "source": [
        "a=' life is just like a box of chocolate. '\n",
        "print(a)"
      ],
      "metadata": {
        "colab": {
          "base_uri": "https://localhost:8080/"
        },
        "id": "a9FjTqhBVBUJ",
        "outputId": "20d834dc-b2d3-4802-d32c-1b7afef827c9"
      },
      "execution_count": null,
      "outputs": [
        {
          "output_type": "stream",
          "name": "stdout",
          "text": [
            " life is just like a box of chocolate. \n"
          ]
        }
      ]
    },
    {
      "cell_type": "code",
      "source": [
        "print(a.upper())"
      ],
      "metadata": {
        "colab": {
          "base_uri": "https://localhost:8080/"
        },
        "id": "Db302O8Za0S1",
        "outputId": "f8cac926-e569-4ce2-96d9-fcb0c588a065"
      },
      "execution_count": null,
      "outputs": [
        {
          "output_type": "stream",
          "name": "stdout",
          "text": [
            " LIFE IS JUST LIKE A BOX OF CHOCOLATE. \n"
          ]
        }
      ]
    },
    {
      "cell_type": "code",
      "source": [
        "result=a.find('just')\n",
        "result"
      ],
      "metadata": {
        "colab": {
          "base_uri": "https://localhost:8080/"
        },
        "id": "WsRxo9WWWvNB",
        "outputId": "6542eb7e-9cac-49a5-ddce-939f0ac7d095"
      },
      "execution_count": null,
      "outputs": [
        {
          "output_type": "execute_result",
          "data": {
            "text/plain": [
              "9"
            ]
          },
          "metadata": {},
          "execution_count": 26
        }
      ]
    },
    {
      "cell_type": "markdown",
      "source": [
        "*   result의 결과는 find 괄호의 첫 글자의 순서이다. (빈칸 포함)\n",
        "*   마지막 줄은 print 생략 가능한디.\n",
        "\n",
        "\n",
        "\n"
      ],
      "metadata": {
        "id": "rLJisIVtVYY_"
      }
    },
    {
      "cell_type": "code",
      "source": [
        "a=a.strip()\n",
        "a"
      ],
      "metadata": {
        "colab": {
          "base_uri": "https://localhost:8080/",
          "height": 35
        },
        "id": "8OIN-hUDXGtE",
        "outputId": "b2a03070-8ac7-4750-84dd-1c70fa7a5cca"
      },
      "execution_count": null,
      "outputs": [
        {
          "output_type": "execute_result",
          "data": {
            "text/plain": [
              "'life is just like a box of chocolate'"
            ],
            "application/vnd.google.colaboratory.intrinsic+json": {
              "type": "string"
            }
          },
          "metadata": {},
          "execution_count": 27
        }
      ]
    },
    {
      "cell_type": "markdown",
      "source": [
        "시작이나 끝의 빈칸 삭제한다."
      ],
      "metadata": {
        "id": "VB50Lo0GXO2P"
      }
    },
    {
      "cell_type": "code",
      "source": [
        "tokens = a.split(' ')\t\n",
        "tokens"
      ],
      "metadata": {
        "colab": {
          "base_uri": "https://localhost:8080/"
        },
        "id": "CmO2dyacZIOt",
        "outputId": "d36dbeb9-23d9-4c0d-d8e3-fbbdb5a364dc"
      },
      "execution_count": null,
      "outputs": [
        {
          "output_type": "execute_result",
          "data": {
            "text/plain": [
              "['life', 'is', 'just', 'like', 'a', 'box', 'of', 'chocolate']"
            ]
          },
          "metadata": {},
          "execution_count": 32
        }
      ]
    },
    {
      "cell_type": "code",
      "source": [
        "a = ' '.join(tokens)\t\n",
        "a"
      ],
      "metadata": {
        "colab": {
          "base_uri": "https://localhost:8080/",
          "height": 35
        },
        "id": "-F3C54aKaJIq",
        "outputId": "06ef7236-5942-4fb0-fbbb-d547ab633562"
      },
      "execution_count": null,
      "outputs": [
        {
          "output_type": "execute_result",
          "data": {
            "text/plain": [
              "'life is just like a box of chocolate'"
            ],
            "application/vnd.google.colaboratory.intrinsic+json": {
              "type": "string"
            }
          },
          "metadata": {},
          "execution_count": 34
        }
      ]
    },
    {
      "cell_type": "markdown",
      "source": [
        "위의 token 단어를 조합하여 빈칸으로 나눈다."
      ],
      "metadata": {
        "id": "cTedihvMbZ65"
      }
    },
    {
      "cell_type": "code",
      "source": [
        "a = a.replace('chocolate', 'apple')\n",
        "a"
      ],
      "metadata": {
        "colab": {
          "base_uri": "https://localhost:8080/",
          "height": 35
        },
        "id": "RHvbX-1WbZge",
        "outputId": "ce6c9806-3239-42e5-f05c-33cb3cfe8e9c"
      },
      "execution_count": null,
      "outputs": [
        {
          "output_type": "execute_result",
          "data": {
            "text/plain": [
              "' life is just like a box of apple. '"
            ],
            "application/vnd.google.colaboratory.intrinsic+json": {
              "type": "string"
            }
          },
          "metadata": {},
          "execution_count": 50
        }
      ]
    },
    {
      "cell_type": "markdown",
      "source": [
        "앞의 단어를 새 단어로 대체한다."
      ],
      "metadata": {
        "id": "qHx8s1sDcFJj"
      }
    },
    {
      "cell_type": "markdown",
      "source": [
        "# **함수/Function**"
      ],
      "metadata": {
        "id": "vFKuY_96cb9o"
      }
    },
    {
      "cell_type": "code",
      "source": [
        "def subtract(you,me):\n",
        "  return you-me"
      ],
      "metadata": {
        "id": "6IKEcTRhbxkS"
      },
      "execution_count": null,
      "outputs": []
    },
    {
      "cell_type": "code",
      "source": [
        "def subtract(you,me):\n",
        "  r=you-me\n",
        "  return r"
      ],
      "metadata": {
        "id": "j_v-9C-peKMD"
      },
      "execution_count": null,
      "outputs": []
    },
    {
      "cell_type": "code",
      "source": [
        "a = subtract(1,2)\n",
        "a\n"
      ],
      "metadata": {
        "colab": {
          "base_uri": "https://localhost:8080/"
        },
        "id": "fnUjf5ARdwBu",
        "outputId": "3fd0ccf0-4624-4175-8bc7-3005cc27e854"
      },
      "execution_count": null,
      "outputs": [
        {
          "output_type": "execute_result",
          "data": {
            "text/plain": [
              "-1"
            ]
          },
          "metadata": {},
          "execution_count": 60
        }
      ]
    },
    {
      "cell_type": "markdown",
      "source": [
        "함수 정의에 대한 연습입니다."
      ],
      "metadata": {
        "id": "5LgtTDYgdhhd"
      }
    },
    {
      "cell_type": "markdown",
      "source": [
        "# **문법/Syntax**\n",
        "\n",
        "\n",
        "*   반복문 for\n",
        "*   조건문 if"
      ],
      "metadata": {
        "id": "yO6rakn5epMy"
      }
    },
    {
      "cell_type": "markdown",
      "source": [
        "***For***"
      ],
      "metadata": {
        "id": "RKu2jKyBj04X"
      }
    },
    {
      "cell_type": "code",
      "source": [
        "a = [7,8,9,10]\n",
        "for b in a:\n",
        "    print(b)"
      ],
      "metadata": {
        "colab": {
          "base_uri": "https://localhost:8080/"
        },
        "id": "HvwPMU8Reo8v",
        "outputId": "18dd5bde-b9a5-436f-db6a-4016196dd431"
      },
      "execution_count": null,
      "outputs": [
        {
          "output_type": "stream",
          "name": "stdout",
          "text": [
            "7\n",
            "8\n",
            "9\n",
            "10\n"
          ]
        }
      ]
    },
    {
      "cell_type": "code",
      "source": [
        "a = [6, 8, 10, 11]\n",
        "for b in range(3):\n",
        "    print(a[b])"
      ],
      "metadata": {
        "colab": {
          "base_uri": "https://localhost:8080/"
        },
        "id": "Z1-eERIIeWsu",
        "outputId": "a57b3197-fa40-4715-a524-b04520d03b93"
      },
      "execution_count": null,
      "outputs": [
        {
          "output_type": "stream",
          "name": "stdout",
          "text": [
            "6\n",
            "8\n",
            "10\n"
          ]
        }
      ]
    },
    {
      "cell_type": "code",
      "source": [
        "for b in range(4):\n",
        "    print(a[b])"
      ],
      "metadata": {
        "colab": {
          "base_uri": "https://localhost:8080/"
        },
        "id": "jYN8goUzirMB",
        "outputId": "a0c61c96-4131-4427-9ec8-ec45d6c754ec"
      },
      "execution_count": null,
      "outputs": [
        {
          "output_type": "stream",
          "name": "stdout",
          "text": [
            "6\n",
            "8\n",
            "10\n",
            "11\n"
          ]
        }
      ]
    },
    {
      "cell_type": "code",
      "source": [
        "\n",
        "for b in range(len(a)):\n",
        "    print(a[b])"
      ],
      "metadata": {
        "colab": {
          "base_uri": "https://localhost:8080/"
        },
        "id": "OetV129Pir7W",
        "outputId": "8f57544e-7c7f-43f2-da4e-2ba0cf72a0c0"
      },
      "execution_count": null,
      "outputs": [
        {
          "output_type": "stream",
          "name": "stdout",
          "text": [
            "6\n",
            "8\n",
            "10\n",
            "11\n"
          ]
        }
      ]
    },
    {
      "cell_type": "markdown",
      "source": [
        " for loop\n",
        "*   a의 변수들에서 첫 번째부터 하나씩 받아 b에 넣고 b를 출력한다.\n",
        "\n",
        "range\n",
        "*   a에 포함된 변수의 개수 \n",
        "e.g. range(3) --[0,1,2]\n",
        "range(4)--[0,1,2,3]\n",
        "range(1,3)--[1,2]\n",
        "range(2,4)--[2,3]\n",
        "*   len(a)=4 \n",
        "range(len(a))= range(4)\n",
        "\n",
        "\n",
        "\n",
        "\n",
        "\n",
        "\n"
      ],
      "metadata": {
        "id": "MFbuwmrIfqCz"
      }
    },
    {
      "cell_type": "code",
      "source": [
        "a = ['sun', 'rain', 'moon', 'wind']\n",
        "for b in a:\n",
        "    print(b)\n",
        "\n",
        "for b in a:\n",
        "    print(a[0])"
      ],
      "metadata": {
        "colab": {
          "base_uri": "https://localhost:8080/"
        },
        "id": "aHEvzJMQghu3",
        "outputId": "995d3b14-89fe-4775-d702-8908c4cfeac4"
      },
      "execution_count": null,
      "outputs": [
        {
          "output_type": "stream",
          "name": "stdout",
          "text": [
            "sun\n",
            "rain\n",
            "moon\n",
            "wind\n",
            "sun\n",
            "sun\n",
            "sun\n",
            "sun\n"
          ]
        }
      ]
    },
    {
      "cell_type": "code",
      "source": [
        "for i in range(2, 4):\n",
        "    for j in range(6, 11):\n",
        "        print(i*j)"
      ],
      "metadata": {
        "colab": {
          "base_uri": "https://localhost:8080/"
        },
        "id": "9gP8nzTAmJUO",
        "outputId": "f26e16dd-33d8-4785-f338-a1a8d8a9a9ec"
      },
      "execution_count": null,
      "outputs": [
        {
          "output_type": "stream",
          "name": "stdout",
          "text": [
            "12\n",
            "14\n",
            "16\n",
            "18\n",
            "20\n",
            "18\n",
            "21\n",
            "24\n",
            "27\n",
            "30\n"
          ]
        }
      ]
    },
    {
      "cell_type": "markdown",
      "source": [
        "range(2,4)--[2,3]\n",
        "range(6,11)--[6,7,8,9,10] \n",
        "> i=2 ➡️  j=6 ➡️  print i*j=2*6=12\n",
        "\n",
        "> i=2     j=7    print i*j=2*7=14\n",
        "\n",
        "> i=3     j=6    print i*j=4*6=18\n",
        "\n",
        "> i=3     j=7    print i*j=4*10=21\n",
        "...\n",
        "\n",
        "\n",
        "\n",
        "\n",
        "\n",
        "\n",
        "\n",
        "\n",
        "\n",
        "\n",
        "\n",
        "\n",
        "\n",
        "\n",
        "\n"
      ],
      "metadata": {
        "id": "HBjV28Uwn3eh"
      }
    },
    {
      "cell_type": "code",
      "source": [
        "for i in range(3, 5):\n",
        "    for j in range(2,4):\n",
        "        if j >=3:\n",
        "            print(i*j)"
      ],
      "metadata": {
        "colab": {
          "base_uri": "https://localhost:8080/"
        },
        "id": "ILqWhbNtqIJz",
        "outputId": "13c3fec2-486e-4204-a34a-df6af279992a"
      },
      "execution_count": null,
      "outputs": [
        {
          "output_type": "stream",
          "name": "stdout",
          "text": [
            "9\n",
            "12\n"
          ]
        }
      ]
    },
    {
      "cell_type": "markdown",
      "source": [
        "\n",
        "\n",
        "> range(3,5)--[3,4].      range(2,4)--[2,3]\n",
        "\n",
        "> 3*3=9\n",
        "\n",
        "> 4*3=12\n",
        "\n",
        "\n",
        "\n",
        "\n",
        "\n",
        "\n",
        "\n",
        "\n",
        "\n"
      ],
      "metadata": {
        "id": "2iFBl4sRqPXM"
      }
    },
    {
      "cell_type": "markdown",
      "source": [
        "*list comprehension* ⬇️"
      ],
      "metadata": {
        "id": "gCIPotozsLDi"
      }
    },
    {
      "cell_type": "code",
      "source": [
        "a = [6, 8, 10, 11]\n",
        "b = [i for i in a if i >=10]\n",
        "b"
      ],
      "metadata": {
        "colab": {
          "base_uri": "https://localhost:8080/"
        },
        "id": "WbXMNRPwsR0f",
        "outputId": "f94db5cd-920b-4674-cd5c-7e5a05976e0e"
      },
      "execution_count": null,
      "outputs": [
        {
          "output_type": "execute_result",
          "data": {
            "text/plain": [
              "[10, 11]"
            ]
          },
          "metadata": {},
          "execution_count": 90
        }
      ]
    },
    {
      "cell_type": "code",
      "source": [
        "a = ['rain', 'wind', 'fire', 'sun']\n",
        "b = [i for i in a if len(i) >=4]\n",
        "b"
      ],
      "metadata": {
        "colab": {
          "base_uri": "https://localhost:8080/"
        },
        "id": "-keaB88OsVPZ",
        "outputId": "c764b506-a2e5-4b14-b59f-bc5aaf64812f"
      },
      "execution_count": null,
      "outputs": [
        {
          "output_type": "execute_result",
          "data": {
            "text/plain": [
              "['rain', 'wind', 'fire']"
            ]
          },
          "metadata": {},
          "execution_count": 92
        }
      ]
    },
    {
      "cell_type": "markdown",
      "source": [
        "*dict comprehension* ⬇️"
      ],
      "metadata": {
        "id": "IqM8phGWsPlj"
      }
    },
    {
      "cell_type": "code",
      "source": [
        "a = [' rain', 'wind', 'fire', 'sun']\n",
        "b = [6, 8, 10, 11]\n",
        "c = {a[i]:b[i] for i in range(3)}\n",
        "c"
      ],
      "metadata": {
        "colab": {
          "base_uri": "https://localhost:8080/"
        },
        "id": "7FTI3-CRsVB5",
        "outputId": "a9fd45c9-02b7-4210-b975-2d387c06acd1"
      },
      "execution_count": null,
      "outputs": [
        {
          "output_type": "execute_result",
          "data": {
            "text/plain": [
              "{' rain': 6, 'fire': 10, 'wind': 8}"
            ]
          },
          "metadata": {},
          "execution_count": 94
        }
      ]
    },
    {
      "cell_type": "markdown",
      "source": [
        "***If***"
      ],
      "metadata": {
        "id": "Ky7KDWCwj6Pp"
      }
    },
    {
      "cell_type": "code",
      "source": [
        "a = 6\n",
        "if a == 6:\n",
        "    print(a)\n",
        "else:\n",
        "    print(a+1)\n"
      ],
      "metadata": {
        "colab": {
          "base_uri": "https://localhost:8080/"
        },
        "id": "xczDegXYj7Ra",
        "outputId": "b8ea3254-debb-4569-9207-906b173ced56"
      },
      "execution_count": null,
      "outputs": [
        {
          "output_type": "stream",
          "name": "stdout",
          "text": [
            "6\n"
          ]
        }
      ]
    },
    {
      "cell_type": "code",
      "source": [
        "a = 11\n",
        "if a == 6:\n",
        "    print(a)\n",
        "else:\n",
        "    print(a+1)"
      ],
      "metadata": {
        "colab": {
          "base_uri": "https://localhost:8080/"
        },
        "id": "EVKQkIFEkNZJ",
        "outputId": "4f542fd5-63e5-4fb6-a45f-bb9ef8931366"
      },
      "execution_count": null,
      "outputs": [
        {
          "output_type": "stream",
          "name": "stdout",
          "text": [
            "12\n"
          ]
        }
      ]
    },
    {
      "cell_type": "code",
      "source": [
        "a = 6\n",
        "if a != 6:\n",
        "    print(a)\n",
        "else:\n",
        "    print(a+1)"
      ],
      "metadata": {
        "colab": {
          "base_uri": "https://localhost:8080/"
        },
        "id": "Up2EktiakrUn",
        "outputId": "2f793842-9c1e-4b8a-87e7-6196095876a8"
      },
      "execution_count": null,
      "outputs": [
        {
          "output_type": "stream",
          "name": "stdout",
          "text": [
            "7\n"
          ]
        }
      ]
    },
    {
      "cell_type": "code",
      "source": [
        "a = 11\n",
        "if a != 6:\n",
        "    print(a)\n",
        "else:\n",
        "    print(a+1)"
      ],
      "metadata": {
        "colab": {
          "base_uri": "https://localhost:8080/"
        },
        "id": "KEdGA7lPlM14",
        "outputId": "92bec8cf-b0f7-4430-b01e-8330df2ea1ef"
      },
      "execution_count": null,
      "outputs": [
        {
          "output_type": "stream",
          "name": "stdout",
          "text": [
            "11\n"
          ]
        }
      ]
    },
    {
      "cell_type": "markdown",
      "source": [
        "!의 사용\n",
        "* a가 6이 아니면 a를 출력한다.\n",
        "\n"
      ],
      "metadata": {
        "id": "G7HsI12nk0Hy"
      }
    },
    {
      "cell_type": "markdown",
      "source": [
        "# **Import**\n",
        "\n",
        "*   Numpy\n",
        "*   Matplotlib\n",
        "\n"
      ],
      "metadata": {
        "id": "XnJ3qC_buNCf"
      }
    },
    {
      "cell_type": "markdown",
      "source": [
        "1.install\n",
        "2.import\n",
        "3.built-in\n"
      ],
      "metadata": {
        "id": "Uu4itZQwzYkz"
      }
    },
    {
      "cell_type": "markdown",
      "source": [
        "***Import***"
      ],
      "metadata": {
        "id": "3dB--R0tAfgr"
      }
    },
    {
      "cell_type": "code",
      "source": [
        "import numpy as np\n",
        "n = np.random.randn(50)\n",
        "n"
      ],
      "metadata": {
        "id": "XQvNQjUYuMoY",
        "outputId": "ea5437be-abaf-4597-c2b2-9f9934407ca0",
        "colab": {
          "base_uri": "https://localhost:8080/"
        }
      },
      "execution_count": null,
      "outputs": [
        {
          "output_type": "execute_result",
          "data": {
            "text/plain": [
              "array([ 2.24823711, -2.15343053,  1.02237717, -0.38591212,  0.32553297,\n",
              "       -0.12675229,  0.26171432, -1.29978568,  0.15253465, -0.1930257 ,\n",
              "       -1.08964732,  1.28147911, -0.83571854, -0.84455307, -0.40257029,\n",
              "        0.02249311,  0.60868961,  0.30749231, -0.00270379, -0.72853805,\n",
              "       -0.96032951,  1.73087011, -0.70044341,  1.89309771, -0.60355894,\n",
              "       -0.99045122, -1.44653781, -0.63087386, -0.38013907, -0.13266385,\n",
              "        1.72080688,  0.5263435 , -1.11615658, -0.66295477, -0.55706882,\n",
              "        0.97280427,  1.41011716,  0.44668149,  0.8552163 ,  0.73359021,\n",
              "       -0.39244852,  0.59258314,  1.85807679,  0.33072915,  0.60848524,\n",
              "       -0.81805854,  0.7395116 , -2.43870156, -0.86534581, -0.71444528])"
            ]
          },
          "metadata": {},
          "execution_count": 101
        }
      ]
    },
    {
      "cell_type": "markdown",
      "source": [
        "    \n",
        "\n",
        "> numpy.random.：임의의 숫자를 불러온다\n",
        "\n",
        "> randn(50): 50개의 숮자\n",
        "\n",
        "\n",
        "\n"
      ],
      "metadata": {
        "id": "t6QZH4sg9Ki1"
      }
    },
    {
      "cell_type": "code",
      "source": [
        "import matplotlib\n",
        "matplotlib.pyplot.hist(n)\n"
      ],
      "metadata": {
        "id": "O2n5ri4A8csN",
        "outputId": "39612a1e-802c-45a4-aa9a-12b87badddb7",
        "colab": {
          "base_uri": "https://localhost:8080/",
          "height": 354
        }
      },
      "execution_count": null,
      "outputs": [
        {
          "output_type": "execute_result",
          "data": {
            "text/plain": [
              "(array([ 2.,  0.,  6.,  7., 16., 10.,  2.,  3.,  2.,  2.]),\n",
              " array([-2.32227947, -1.84133348, -1.36038749, -0.8794415 , -0.39849551,\n",
              "         0.08245047,  0.56339646,  1.04434245,  1.52528844,  2.00623443,\n",
              "         2.48718041]),\n",
              " <a list of 10 Patch objects>)"
            ]
          },
          "metadata": {},
          "execution_count": 100
        },
        {
          "output_type": "display_data",
          "data": {
            "text/plain": [
              "<Figure size 432x288 with 1 Axes>"
            ],
            "image/png": "[encoded data removed]"
          },
          "metadata": {
            "needs_background": "light"
          }
        }
      ]
    },
    {
      "cell_type": "code",
      "source": [
        "import matplotlib.pyplot\n",
        "matplotlib.pyplot.hist(n)\n",
        "\n",
        "import matplotlib.pyplot as plt\n",
        "plt.hist(n)\n",
        "\n",
        "from matplotlib import pyplot\n",
        "pyplot.hist(n)\n",
        "\n",
        "from matplotlib.pyplot import hist\n",
        "hist(n)"
      ],
      "metadata": {
        "id": "LW_VcMGs82xU"
      },
      "execution_count": null,
      "outputs": []
    },
    {
      "cell_type": "markdown",
      "source": [
        "> matplotlib:도표를 그린다. hist 주상도.\n",
        "\n",
        "\n",
        "> n안에 50개의 숮자로 표를 만든다.\n",
        "\n",
        "\n",
        "> 축약해서 사용하는 방법은 여러 가지가 있다.\n",
        "\n",
        "\n",
        "\n",
        "\n",
        "\n"
      ],
      "metadata": {
        "id": "hJUl2HX49lLm"
      }
    },
    {
      "cell_type": "markdown",
      "source": [
        "***Numpy***"
      ],
      "metadata": {
        "id": "c1LgfEU_8jEc"
      }
    },
    {
      "cell_type": "code",
      "source": [
        "import numpy as np"
      ],
      "metadata": {
        "id": "vttKncxK_Pgt"
      },
      "execution_count": null,
      "outputs": []
    },
    {
      "cell_type": "markdown",
      "source": [
        "*nd array*"
      ],
      "metadata": {
        "id": "8FCTnuImJIvh"
      }
    },
    {
      "cell_type": "code",
      "source": [
        "x = np.array([6,8,11])\n",
        "print(x)\n",
        "print(type(x))\n",
        "print(x.shape)"
      ],
      "metadata": {
        "id": "Q7bgTdvsA3U5",
        "outputId": "e49ba29b-7ffc-4743-9035-c50ec48fe272",
        "colab": {
          "base_uri": "https://localhost:8080/"
        }
      },
      "execution_count": null,
      "outputs": [
        {
          "output_type": "stream",
          "name": "stdout",
          "text": [
            "[ 6  8 11]\n",
            "<class 'numpy.ndarray'>\n",
            "(3,)\n"
          ]
        }
      ]
    },
    {
      "cell_type": "markdown",
      "source": [
        "\n",
        "\n",
        "> array   list의 숫자는 계산할 수 없기 때문에 이들을 array로 변환해야 한다.\n",
        "\n",
        "> x.shape   정렬된 숫자 행렬의 숫자 개수\n",
        "\n",
        "\n",
        "> (3, )    한 줄에 세 개가 있다. 열 없다.\n",
        "\n",
        "\n"
      ],
      "metadata": {
        "id": "G87ByMpTBodZ"
      }
    },
    {
      "cell_type": "code",
      "source": [
        "x = np.arange(6,12,2)\n",
        "print(x)\n",
        "print(type(x))\n",
        "print(x.shape)"
      ],
      "metadata": {
        "id": "aaybBkQ9BPa4",
        "outputId": "0dc4460d-8241-46d8-9443-8ef7d7ae0996",
        "colab": {
          "base_uri": "https://localhost:8080/"
        }
      },
      "execution_count": null,
      "outputs": [
        {
          "output_type": "stream",
          "name": "stdout",
          "text": [
            "[ 6  8 10]\n",
            "<class 'numpy.ndarray'>\n",
            "(3,)\n"
          ]
        }
      ]
    },
    {
      "cell_type": "markdown",
      "source": [
        "arrange(6，12，2） 6부터 12까지 두 개씩 건너뛰는 수를 배열한다 (12제외)."
      ],
      "metadata": {
        "id": "_-wgk1ROCph5"
      }
    },
    {
      "cell_type": "code",
      "source": [
        "x = np.linspace(6,12,3)\n",
        "print(x)\n",
        "print(type(x))\n",
        "print(x.shape)"
      ],
      "metadata": {
        "id": "vJ7hQHyPEWIV",
        "outputId": "908e2aab-974c-4bee-c49d-0eb08ba60048",
        "colab": {
          "base_uri": "https://localhost:8080/"
        }
      },
      "execution_count": null,
      "outputs": [
        {
          "output_type": "stream",
          "name": "stdout",
          "text": [
            "[ 6.  9. 12.]\n",
            "<class 'numpy.ndarray'>\n",
            "(3,)\n"
          ]
        }
      ]
    },
    {
      "cell_type": "markdown",
      "source": [
        "6부터 11까지 6개의 숫자를 균등하게 할당한다."
      ],
      "metadata": {
        "id": "K80o9H7mE5rO"
      }
    },
    {
      "cell_type": "code",
      "source": [
        "x = np.array([[6,7,8], [10,11,12]])\n",
        "print(x)\n",
        "print(type(x))\n",
        "print(x.shape)"
      ],
      "metadata": {
        "id": "4VEh_GU1E4_I",
        "outputId": "2cc362e7-a8bb-438e-b4e6-6e744b0940c6",
        "colab": {
          "base_uri": "https://localhost:8080/"
        }
      },
      "execution_count": null,
      "outputs": [
        {
          "output_type": "stream",
          "name": "stdout",
          "text": [
            "[[ 6  7  8]\n",
            " [10 11 12]]\n",
            "<class 'numpy.ndarray'>\n",
            "(2, 3)\n"
          ]
        }
      ]
    },
    {
      "cell_type": "markdown",
      "source": [
        "2d array\n",
        "> (2,3)  이층으로 배열된다. 각 층마다 세 개가 있다.\n",
        "\n"
      ],
      "metadata": {
        "id": "nI2RLuT2FYJs"
      }
    },
    {
      "cell_type": "code",
      "source": [
        "x = np.array([[[1,2,3], [4,5,6]], [[7,8,9], [10,11,12]]])\n",
        "print(x)\n",
        "print(type(x))\n",
        "print(x.shape)"
      ],
      "metadata": {
        "id": "8o0Ck_m8HH6t",
        "outputId": "9e39dafe-6099-4caa-e472-8b5fd6e285c0",
        "colab": {
          "base_uri": "https://localhost:8080/"
        }
      },
      "execution_count": null,
      "outputs": [
        {
          "output_type": "stream",
          "name": "stdout",
          "text": [
            "[[[ 1  2  3]\n",
            "  [ 4  5  6]]\n",
            "\n",
            " [[ 7  8  9]\n",
            "  [10 11 12]]]\n",
            "<class 'numpy.ndarray'>\n",
            "(2, 2, 3)\n"
          ]
        }
      ]
    },
    {
      "cell_type": "markdown",
      "source": [
        "3d array"
      ],
      "metadata": {
        "id": "pulHg8KYHQvs"
      }
    },
    {
      "cell_type": "code",
      "source": [
        "a = np.ones([1, 2, 3])\n",
        "print(a)\n",
        "print(type(a))\n",
        "print(a.shape)\n"
      ],
      "metadata": {
        "id": "UqClw0WlIKC1",
        "outputId": "a77261e3-67ec-4c31-bac3-8a8371603dc0",
        "colab": {
          "base_uri": "https://localhost:8080/"
        }
      },
      "execution_count": null,
      "outputs": [
        {
          "output_type": "stream",
          "name": "stdout",
          "text": [
            "[[[1. 1. 1.]\n",
            "  [1. 1. 1.]]]\n",
            "<class 'numpy.ndarray'>\n",
            "(1, 2, 3)\n"
          ]
        }
      ]
    },
    {
      "cell_type": "code",
      "source": [
        "\n",
        "b = np.zeros([1, 2, 3])\n",
        "print(b)\n",
        "print(type(b))\n",
        "print(b.shape)\n",
        "b.reshape(1,2,3)"
      ],
      "metadata": {
        "id": "fff_FyvSIpYr",
        "outputId": "d6ddeee6-8070-4f00-e2c1-4450b9bd4bdc",
        "colab": {
          "base_uri": "https://localhost:8080/"
        }
      },
      "execution_count": null,
      "outputs": [
        {
          "output_type": "stream",
          "name": "stdout",
          "text": [
            "[[[0. 0. 0.]\n",
            "  [0. 0. 0.]]]\n",
            "<class 'numpy.ndarray'>\n",
            "(1, 2, 3)\n"
          ]
        },
        {
          "output_type": "execute_result",
          "data": {
            "text/plain": [
              "array([[[0., 0., 0.],\n",
              "        [0., 0., 0.]]])"
            ]
          },
          "metadata": {},
          "execution_count": 125
        }
      ]
    },
    {
      "cell_type": "markdown",
      "source": [
        "정렬된 숫자를 모두 1/0으로 바꾼다."
      ],
      "metadata": {
        "id": "m_WWe8vJItDT"
      }
    },
    {
      "cell_type": "markdown",
      "source": [
        "*random number*"
      ],
      "metadata": {
        "id": "uUQYfEMGJRWG"
      }
    },
    {
      "cell_type": "code",
      "source": [
        "np.random.normal(0, 1, [2,3,4])"
      ],
      "metadata": {
        "id": "Hi_R3mkpIstR",
        "outputId": "637133c2-c223-49ef-8c76-bd8bc701a6b4",
        "colab": {
          "base_uri": "https://localhost:8080/"
        }
      },
      "execution_count": null,
      "outputs": [
        {
          "output_type": "execute_result",
          "data": {
            "text/plain": [
              "array([[[-0.94426159, -0.69583359,  1.51559635,  0.37751605],\n",
              "        [-0.09361858,  0.64365293,  0.26894613, -0.31929731],\n",
              "        [-1.43930451,  1.62854401,  0.50706315, -1.29335069]],\n",
              "\n",
              "       [[ 0.47649405, -1.30797839,  0.83805818,  1.3040172 ],\n",
              "        [-0.37365218,  0.27716442, -0.2842383 ,  0.17831324],\n",
              "        [-1.01006367, -0.49956276, -0.74023041,  0.23009656]]])"
            ]
          },
          "metadata": {},
          "execution_count": 126
        }
      ]
    },
    {
      "cell_type": "code",
      "source": [
        "import matplotlib.pyplot as plt\n",
        "x = np.random.normal(0, 1, 100)\n",
        "print(x)\n",
        "plt.hist(x, bins=10)"
      ],
      "metadata": {
        "id": "5DluDkW0P70R",
        "outputId": "7735d5a0-6995-4832-8eeb-1bf903ef12e6",
        "colab": {
          "base_uri": "https://localhost:8080/",
          "height": 658
        }
      },
      "execution_count": null,
      "outputs": [
        {
          "output_type": "stream",
          "name": "stdout",
          "text": [
            "[-1.10348528 -0.94268257  0.74757554  0.42792684  0.89043781 -1.87580501\n",
            " -1.14963822  1.01387975 -0.12141103  0.1757668  -1.23249093  0.03305967\n",
            "  0.85377295 -0.21387127 -0.39467519  1.20429852 -1.24039612 -0.02298244\n",
            "  0.78255731  1.20005783 -0.69199482  0.65286676  0.21082255  0.91569032\n",
            " -0.63842313 -0.93463347  1.40242889  0.50574394 -0.74486764  0.64573171\n",
            " -0.50162362  1.75603437  0.87468483  0.41655612 -0.17273995  0.53836859\n",
            " -0.27255605  0.10294051  0.35786689  0.77033608 -1.31407018 -3.67029943\n",
            " -1.15672811  1.54660367  1.78351229  0.18555071  1.29100266  0.67138054\n",
            " -0.54953755  0.09877246 -0.22460387  0.24135816  1.09431615  2.51293134\n",
            " -0.55975594 -0.32686625  0.88639755  0.85097634  0.88492397 -1.0091683\n",
            " -1.52382566  0.1282478   0.97147994  0.48179608  0.93010054  0.7657151\n",
            "  0.14325626  0.83419833 -0.63427855  0.35165539 -0.0344005  -0.49401003\n",
            " -0.56098156  0.44097033  2.31633569  0.31913244  0.38336251  0.54174105\n",
            "  0.613316    0.34425559 -0.70569392 -1.07985999 -0.08296419 -0.0712531\n",
            " -0.06484495 -1.20384563 -0.84544044  0.04214561 -0.32775488  1.37490824\n",
            " -0.60630703  0.63730607 -0.16633932  0.55230878  1.89322401  1.60601522\n",
            "  1.02021304 -0.17949703  0.33360441 -0.45499112]\n"
          ]
        },
        {
          "output_type": "execute_result",
          "data": {
            "text/plain": [
              "(array([ 1.,  0.,  1.,  5., 14., 22., 27., 20.,  8.,  2.]),\n",
              " array([-3.67029943, -3.05197635, -2.43365327, -1.8153302 , -1.19700712,\n",
              "        -0.57868404,  0.03963904,  0.65796211,  1.27628519,  1.89460827,\n",
              "         2.51293134]),\n",
              " <a list of 10 Patch objects>)"
            ]
          },
          "metadata": {},
          "execution_count": 127
        },
        {
          "output_type": "display_data",
          "data": {
            "text/plain": [
              "<Figure size 432x288 with 1 Axes>"
            ],
            "image/png": "[encoded data removed]"
          },
          "metadata": {
            "needs_background": "light"
          }
        }
      ]
    },
    {
      "cell_type": "code",
      "source": [
        "plt.figure()\n",
        "\n",
        "theta1 = np.linspace(0, 2*np.pi, 100)\n",
        "s1 = np.sin(theta1)\n",
        "theta2 = np.linspace(0, 2*np.pi, 100) + np.pi/2\n",
        "s2 = np.sin(theta2)\n",
        "\n",
        "plt.subplot(2, 2, 1) \n",
        "plt.plot(theta1, s1, '.')\n",
        "plt.subplot(2, 2, 2) \n",
        "plt.plot(theta2, s2, '.')"
      ],
      "metadata": {
        "id": "jiPtSLbsQFNt",
        "outputId": "8946a433-07b1-43d1-d6d5-3b1e65e532fb",
        "colab": {
          "base_uri": "https://localhost:8080/",
          "height": 165
        }
      },
      "execution_count": null,
      "outputs": [
        {
          "output_type": "execute_result",
          "data": {
            "text/plain": [
              "[<matplotlib.lines.Line2D at 0x7f2200c264d0>]"
            ]
          },
          "metadata": {},
          "execution_count": 132
        },
        {
          "output_type": "display_data",
          "data": {
            "text/plain": [
              "<Figure size 432x288 with 2 Axes>"
            ],
            "image/png": "[encoded data removed]"
          },
          "metadata": {
            "needs_background": "light"
          }
        }
      ]
    },
    {
      "cell_type": "markdown",
      "source": [
        "> thetal1 입력 100개\n",
        "\n",
        "\n",
        "*   2*np.pi   pi=π  2*np.pi= 2π\n",
        "*   np중에 π가 있다.\n",
        "\n",
        "\n",
        "\n",
        "\n",
        "\n",
        "> s1 출력 100개\n",
        "\n",
        ">sin 함수\n",
        "\n",
        "> plt.figure()  그림을 그린다.\n",
        "\n",
        "\n",
        "> plt.plot(theta1, s1, '.')\n",
        "\n",
        "\n",
        "*   plot(x,y,'.')\n",
        "*   '.' 그림 속의 숫자는 점의 형태로 표현된다.\n",
        "\n",
        "\n",
        "\n",
        "\n",
        "\n",
        "\n",
        "\n",
        "\n",
        "\n",
        "\n"
      ],
      "metadata": {
        "id": "lXHYQItmRBZK"
      }
    }
  ]
}
