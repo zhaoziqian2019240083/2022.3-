{
  "nbformat": 4,
  "nbformat_minor": 0,
  "metadata": {
    "colab": {
      "name": "3.21 assignment.ipynb",
      "provenance": [],
      "collapsed_sections": [],
      "authorship_tag": "ABX9TyMxdXdJ9YUF56jJ5dPisRgN",
      "include_colab_link": true
    },
    "kernelspec": {
      "name": "python3",
      "display_name": "Python 3"
    },
    "language_info": {
      "name": "python"
    }
  },
  "cells": [
    {
      "cell_type": "markdown",
      "metadata": {
        "id": "view-in-github",
        "colab_type": "text"
      },
      "source": [
        "<a href=\"https://colab.research.google.com/github/zhaoziqian2019240083/2022.3-/blob/main/3_21_assignment.ipynb\" target=\"_parent\"><img src=\"https://colab.research.google.com/assets/colab-badge.svg\" alt=\"Open In Colab\"/></a>"
      ]
    },
    {
      "cell_type": "code",
      "execution_count": null,
      "metadata": {
        "colab": {
          "base_uri": "https://localhost:8080/"
        },
        "id": "RDKFCoJh-IWA",
        "outputId": "d446cb60-e759-4daf-88fc-86218ebc77d4"
      },
      "outputs": [
        {
          "output_type": "stream",
          "name": "stdout",
          "text": [
            "8\n"
          ]
        }
      ],
      "source": [
        "a = 8; print(a)"
      ]
    },
    {
      "cell_type": "code",
      "source": [
        "b = 8; print(type(b))\n",
        "\n",
        "c = 8.2; print(type(c))\n"
      ],
      "metadata": {
        "colab": {
          "base_uri": "https://localhost:8080/"
        },
        "id": "JG4lpvaHSO0U",
        "outputId": "1d296e6e-ebfa-4e41-bbe0-f4c5b6ff09cd"
      },
      "execution_count": null,
      "outputs": [
        {
          "output_type": "stream",
          "name": "stdout",
          "text": [
            "<class 'int'>\n",
            "<class 'float'>\n"
          ]
        }
      ]
    },
    {
      "cell_type": "code",
      "source": [
        "d = '234'; print(type(d)); print(d[0])\n",
        "print(d[1],d[2])\n",
        "print(d[-2],d[-3],d[0])\n",
        "print(d[1:])\n",
        "\n",
        "e = 'hello'; print(type(e)); print(e[2])"
      ],
      "metadata": {
        "colab": {
          "base_uri": "https://localhost:8080/"
        },
        "id": "FRdM0-JbTd9F",
        "outputId": "9dea76e7-7630-4913-d0b8-603ea6f06004"
      },
      "execution_count": null,
      "outputs": [
        {
          "output_type": "stream",
          "name": "stdout",
          "text": [
            "<class 'str'>\n",
            "2\n",
            "3 4\n",
            "3 2 2\n",
            "34\n",
            "<class 'str'>\n",
            "l\n"
          ]
        }
      ]
    },
    {
      "cell_type": "markdown",
      "source": [
        "이것은 string에 대한 연습입니다.\n",
        "\n",
        "\n",
        "*   string ' '/ \" \"\n",
        "\n",
        "\n",
        "*   string: number/letter\n",
        "\n",
        "\n",
        "*   print(d[0])  \n",
        "0부터 순서 세는다.\n",
        "d[0]은 string 안에 첫 번째 숫자이다.\n",
        "\n"
      ],
      "metadata": {
        "id": "apJNRekQTxiU"
      }
    },
    {
      "cell_type": "code",
      "source": [
        "f = [3, 4, 5, 6]; print(type(f)); print(f); print(f[2])"
      ],
      "metadata": {
        "colab": {
          "base_uri": "https://localhost:8080/"
        },
        "id": "yT7WVKOdXYY-",
        "outputId": "157effda-2abe-4b81-c8b3-e487f4d2e595"
      },
      "execution_count": null,
      "outputs": [
        {
          "output_type": "stream",
          "name": "stdout",
          "text": [
            "<class 'list'>\n",
            "[3, 4, 5, 6]\n",
            "5\n"
          ]
        }
      ]
    },
    {
      "cell_type": "code",
      "source": [
        "f = ['a', 4, 'tennis', [1,2,'heart']]\n",
        "print(type(f))\n",
        "print(type(f[0]))\n",
        "print(type(f[3]))"
      ],
      "metadata": {
        "colab": {
          "base_uri": "https://localhost:8080/"
        },
        "id": "k5_ccmfmZKgZ",
        "outputId": "5a1bb452-68cf-4e61-f87f-ff0ec74fc161"
      },
      "execution_count": null,
      "outputs": [
        {
          "output_type": "stream",
          "name": "stdout",
          "text": [
            "<class 'list'>\n",
            "<class 'str'>\n",
            "<class 'list'>\n"
          ]
        }
      ]
    },
    {
      "cell_type": "code",
      "source": [
        "print(f [1:3])\n",
        "print(f [:])\n",
        "print(f [1:])\n",
        "print(f [:2])\n",
        "print(f [1:-1])\n",
        "print(f [3][2])"
      ],
      "metadata": {
        "colab": {
          "base_uri": "https://localhost:8080/"
        },
        "id": "RkGfBXNrbPF4",
        "outputId": "c3ab7b9e-445f-44cb-8c0e-3e0b84877e69"
      },
      "execution_count": null,
      "outputs": [
        {
          "output_type": "stream",
          "name": "stdout",
          "text": [
            "[4, 'tennis']\n",
            "['a', 4, 'tennis', [1, 2, 'heart']]\n",
            "[4, 'tennis', [1, 2, 'heart']]\n",
            "['a', 4]\n",
            "[4, 'tennis']\n",
            "heart\n"
          ]
        }
      ]
    },
    {
      "cell_type": "markdown",
      "source": [
        "이것은 list에 대한 연습입니다.\n",
        "\n",
        "\n",
        "\n",
        "*   첫 번째 숫자는 0번째이고, 마지막 숫자는 -1번째이다.\n",
        "*   \n",
        ":  string&list 사용방법이 같은다.\n",
        "\n",
        "*   f [3][2] list안의 변수를 순서대로 print\n",
        "\n"
      ],
      "metadata": {
        "id": "YdC6u2slcG4b"
      }
    },
    {
      "cell_type": "code",
      "source": [
        "g =\t{\"1\": \"blade\", \"b\": \"runner\", \"23\": 2049}\n",
        "print(type(g))\n",
        "print(g[\"1\"])\n",
        "print(g[\"b\"])\n",
        "print(g[\"23\"])"
      ],
      "metadata": {
        "colab": {
          "base_uri": "https://localhost:8080/"
        },
        "id": "zu672JaKiSXz",
        "outputId": "c43c09cb-d959-4862-ef47-cd361016f95f"
      },
      "execution_count": null,
      "outputs": [
        {
          "output_type": "stream",
          "name": "stdout",
          "text": [
            "<class 'dict'>\n",
            "blade\n",
            "runner\n",
            "2049\n"
          ]
        }
      ]
    },
    {
      "cell_type": "markdown",
      "source": [
        "이것은 dict에 대한 연습입니다.\n",
        "\n",
        "*   dict는 {} 로 표현한다.\n",
        "*  dict={\"key\": \"value\"}\n",
        "*  외에 coding중 1는 key,:되에 value 이다.\n",
        "*  dict속에 key를 입력해 value를 불러온다.\n",
        "*  dict속에 순서를 따지지 않다\n",
        "\n",
        "\n",
        "\n"
      ],
      "metadata": {
        "id": "OXUnU6CRjooP"
      }
    }
  ]
}