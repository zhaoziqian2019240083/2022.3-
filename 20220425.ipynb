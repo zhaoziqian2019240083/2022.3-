{
  "nbformat": 4,
  "nbformat_minor": 0,
  "metadata": {
    "colab": {
      "name": "20220425.ipynb",
      "provenance": [],
      "authorship_tag": "ABX9TyPQhtgQNQx3UzuAQfcDEQ/R",
      "include_colab_link": true
    },
    "kernelspec": {
      "name": "python3",
      "display_name": "Python 3"
    },
    "language_info": {
      "name": "python"
    }
  },
  "cells": [
    {
      "cell_type": "markdown",
      "metadata": {
        "id": "view-in-github",
        "colab_type": "text"
      },
      "source": [
        "<a href=\"https://colab.research.google.com/github/zhaoziqian2019240083/2022.3-/blob/main/20220425.ipynb\" target=\"_parent\"><img src=\"https://colab.research.google.com/assets/colab-badge.svg\" alt=\"Open In Colab\"/></a>"
      ]
    },
    {
      "cell_type": "markdown",
      "source": [
        "auto correlation는 서로 다른 시점에서 신호 자신과 상호 상관되는 것이다.두 관찰자 사이의 시간차에 대한 유사성의 함수이다.이는 중복된 소리 (소음에 의해 가려진 주기적신호)을 찾아내거나 신호의 조화파주파수중에 소실된 기본주파수를 식별하는 함수이다."
      ],
      "metadata": {
        "id": "C2upSsIzJYb-"
      }
    },
    {
      "cell_type": "markdown",
      "source": [
        "RMS（Root mean square）는 관측치와 진리치의 편차의 평방근과 관측차수 n의 비률의 평방근이다. 실제 측정에서 관측차수 n은 항상 제한되여있고 진리치는 가장 신뢰할수 있는 값으로 대체할수 있다.이는 분산의 산수의 평방근으로서 한조의 수 자체의 이산정도를 가늠하는데 사용되기에 예측치의 오차의 실제상황을 더욱 잘 반영할수 있다."
      ],
      "metadata": {
        "id": "01BNZZeNKvv2"
      }
    }
  ]
}