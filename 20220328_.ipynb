{
  "nbformat": 4,
  "nbformat_minor": 0,
  "metadata": {
    "colab": {
      "name": "20220328 .ipynb",
      "provenance": [],
      "collapsed_sections": [],
      "authorship_tag": "ABX9TyPucmdvbQqc0deHEMbeWOeD",
      "include_colab_link": true
    },
    "kernelspec": {
      "name": "python3",
      "display_name": "Python 3"
    },
    "language_info": {
      "name": "python"
    }
  },
  "cells": [
    {
      "cell_type": "markdown",
      "metadata": {
        "id": "view-in-github",
        "colab_type": "text"
      },
      "source": [
        "<a href=\"https://colab.research.google.com/github/zhaoziqian2019240083/2022.3-/blob/main/20220328_.ipynb\" target=\"_parent\"><img src=\"https://colab.research.google.com/assets/colab-badge.svg\" alt=\"Open In Colab\"/></a>"
      ]
    },
    {
      "cell_type": "code",
      "execution_count": null,
      "metadata": {
        "id": "MEzgkK8O95FX"
      },
      "outputs": [],
      "source": [
        "!pip install gradio\n",
        "import gradio as gr\n",
        "import requests\n",
        "import pandas as pd"
      ]
    },
    {
      "cell_type": "code",
      "source": [
        "URL = ('http://apis.data.go.kr/5690000/sjfilmindustrystatus/'\n",
        "      'sj_00000680?'\n",
        "      'pageIndex=1'\n",
        "      '&pageUnit=20'\n",
        "      '&dataTy=json'\n",
        "      '&searchCondition=bsn_Sttus'\n",
        "      '&searchKeyword=영업중'\n",
        "      '&serviceKey=nj6O3Ff3qKkZpZIksRenR9Stm1YX4LqhUT8XBAVD4pXxcLdOon%2FQuT7Ev1FQlApoWdA4ChEeNd6GvnW7j%2FA8KQ%3D%3D')\n",
        "response = requests.get(URL)\n"
      ],
      "metadata": {
        "id": "eHvFwnXnYSm5"
      },
      "execution_count": 2,
      "outputs": []
    },
    {
      "cell_type": "code",
      "source": [
        "r = response.json()\n",
        "r"
      ],
      "metadata": {
        "id": "JfeCkvWg7p7Z"
      },
      "execution_count": null,
      "outputs": []
    },
    {
      "cell_type": "markdown",
      "source": [
        ""
      ],
      "metadata": {
        "id": "gTy0-HDM3uhj"
      }
    },
    {
      "cell_type": "code",
      "source": [
        "items = r['body']['items']\n",
        "\n",
        "addr = [item['addr'] for item in items]\n",
        "bsnSttus = [item['bsnSttus'] for item in items]\n",
        "mtlty = [item['mtlty'] for item in items]\n",
        "ocrnYmd = [item['ocrnYmd'] for item in items]\n",
        "viewngPsncpa = [item['viewngPsncpa'] for item in items]\n",
        "zip = [item['zip'] for item in items]\n",
        "\n",
        "addr = pd.Series(addr)\n",
        "bsnSttus = pd.Series(bsnSttus)   \n",
        "mtlty = pd.Series(mtlty)\n",
        "ocrnYmd = pd.Series(ocrnYmd)\n",
        "viewngPsncpa = pd.Series(viewngPsncpa)\n",
        "zip = pd.Series(zip)\n",
        "\n",
        "df = pd.DataFrame({ 'addr': addr, 'bsnSttus': bsnSttus, 'mtlty': mtlty, 'ocrnYmd': ocrnYmd, 'viewngPsncpa': viewngPsncpa, 'zip': zip})"
      ],
      "metadata": {
        "id": "78IqSH1kbI_y"
      },
      "execution_count": 4,
      "outputs": []
    },
    {
      "cell_type": "code",
      "source": [
        "df"
      ],
      "metadata": {
        "id": "_YFlbpcUfJ0d"
      },
      "execution_count": null,
      "outputs": []
    },
    {
      "cell_type": "code",
      "source": [
        "def test(bsnSttus):\n",
        "  URL = ('http://apis.data.go.kr/5690000/sjfilmindustrystatus/'\n",
        "      'sj_00000680?'\n",
        "      'pageIndex=1'\n",
        "      '&pageUnit=20'\n",
        "      '&dataTy=json'\n",
        "      '&searchCondition=bsn_Sttus'\n",
        "      '&searchKeyword=영업중'\n",
        "      '&serviceKey=nj6O3Ff3qKkZpZIksRenR9Stm1YX4LqhUT8XBAVD4pXxcLdOon%2FQuT7Ev1FQlApoWdA4ChEeNd6GvnW7j%2FA8KQ%3D%3D')\n",
        "  response = requests.get(URL)\n",
        "  r = response.json()\n",
        "  items = r['body']['items']\n",
        "\n",
        "  addr = [item['addr'] for item in items]\n",
        "  bsnSttus = [item['bsnSttus'] for item in items]\n",
        "  mtlty = [item['mtlty'] for item in items]\n",
        "  ocrnYmd = [item['ocrnYmd'] for item in items]\n",
        "  viewngPsncpa = [item['viewngPsncpa'] for item in items]\n",
        "  zip = [item['zip'] for item in items]\n",
        "\n",
        "  addr = pd.Series(addr)\n",
        "  bsnSttus = pd.Series(bsnSttus)   \n",
        "  mtlty = pd.Series(mtlty)\n",
        "  ocrnYmd = pd.Series(ocrnYmd)\n",
        "  viewngPsncpa = pd.Series(viewngPsncpa)\n",
        "  zip = pd.Series(zip)\n",
        "\n",
        "  df = pd.DataFrame({ 'addr': addr, 'bsnSttus': bsnSttus, 'mtlty': mtlty, 'ocrnYmd': ocrnYmd, 'viewngPsncpa': viewngPsncpa, 'zip': zip})\n",
        "  return df"
      ],
      "metadata": {
        "id": "NpfaCY7lesaK"
      },
      "execution_count": 6,
      "outputs": []
    },
    {
      "cell_type": "code",
      "source": [
        "iface = gr.Interface(test, gr.inputs.Dropdown(['영업중']), outputs=['dataframe'])\n",
        "iface.launch(debug=True)"
      ],
      "metadata": {
        "id": "vhAvrxwIir8d",
        "colab": {
          "base_uri": "https://localhost:8080/",
          "height": 683
        },
        "outputId": "38329284-0bbb-44b3-d9e4-df4b9d29002b"
      },
      "execution_count": 7,
      "outputs": [
        {
          "output_type": "stream",
          "name": "stdout",
          "text": [
            "Colab notebook detected. This cell will run indefinitely so that you can see errors and logs. To turn off, set debug=False in launch().\n",
            "Running on public URL: https://31585.gradio.app\n",
            "\n",
            "This share link expires in 72 hours. For free permanent hosting, check out Spaces (https://huggingface.co/spaces)\n"
          ]
        },
        {
          "output_type": "display_data",
          "data": {
            "text/plain": [
              "<IPython.lib.display.IFrame at 0x7fba85975fd0>"
            ],
            "text/html": [
              "\n",
              "        <iframe\n",
              "            width=\"900\"\n",
              "            height=\"500\"\n",
              "            src=\"https://31585.gradio.app\"\n",
              "            frameborder=\"0\"\n",
              "            allowfullscreen\n",
              "        ></iframe>\n",
              "        "
            ]
          },
          "metadata": {}
        },
        {
          "output_type": "stream",
          "name": "stdout",
          "text": [
            "Keyboard interruption in main thread... closing server.\n"
          ]
        },
        {
          "output_type": "execute_result",
          "data": {
            "text/plain": [
              "(<fastapi.applications.FastAPI at 0x7fba8fe11710>,\n",
              " 'http://127.0.0.1:7860/',\n",
              " 'https://31585.gradio.app')"
            ]
          },
          "metadata": {},
          "execution_count": 7
        }
      ]
    }
  ]
}